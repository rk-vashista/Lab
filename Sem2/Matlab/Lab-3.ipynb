{
 "cells": [
  {
   "attachments": {},
   "cell_type": "markdown",
   "metadata": {},
   "source": [
    "1. To find gradient of ϕ = x2y + 2xz − 4"
   ]
  },
  {
   "cell_type": "code",
   "execution_count": 1,
   "metadata": {},
   "outputs": [
    {
     "data": {
      "text/latex": [
       "$\\displaystyle \\left(\\frac{\\partial}{\\partial \\mathbf{{x}_{N}}} \\left(\\mathbf{{x}_{N}}^{2} \\mathbf{{y}_{N}} + 2 \\mathbf{{x}_{N}} \\mathbf{{z}_{N}} - 4\\right)\\right)\\mathbf{\\hat{i}_{N}} + \\left(\\frac{\\partial}{\\partial \\mathbf{{y}_{N}}} \\left(\\mathbf{{x}_{N}}^{2} \\mathbf{{y}_{N}} + 2 \\mathbf{{x}_{N}} \\mathbf{{z}_{N}} - 4\\right)\\right)\\mathbf{\\hat{j}_{N}} + \\left(\\frac{\\partial}{\\partial \\mathbf{{z}_{N}}} \\left(\\mathbf{{x}_{N}}^{2} \\mathbf{{y}_{N}} + 2 \\mathbf{{x}_{N}} \\mathbf{{z}_{N}} - 4\\right)\\right)\\mathbf{\\hat{k}_{N}}$"
      ],
      "text/plain": [
       "(Derivative(N.x**2*N.y + 2*N.x*N.z - 4, N.x))*N.i + (Derivative(N.x**2*N.y + 2*N.x*N.z - 4, N.y))*N.j + (Derivative(N.x**2*N.y + 2*N.x*N.z - 4, N.z))*N.k"
      ]
     },
     "metadata": {},
     "output_type": "display_data"
    },
    {
     "name": "stdout",
     "output_type": "stream",
     "text": [
      "\n",
      " Gradient of N.x**2*N.y + 2*N.x*N.z - 4 is \n",
      "\n"
     ]
    },
    {
     "data": {
      "text/latex": [
       "$\\displaystyle \\left(2 \\mathbf{{x}_{N}} \\mathbf{{y}_{N}} + 2 \\mathbf{{z}_{N}}\\right)\\mathbf{\\hat{i}_{N}} + \\left(\\mathbf{{x}_{N}}^{2}\\right)\\mathbf{\\hat{j}_{N}} + \\left(2 \\mathbf{{x}_{N}}\\right)\\mathbf{\\hat{k}_{N}}$"
      ],
      "text/plain": [
       "(2*N.x*N.y + 2*N.z)*N.i + N.x**2*N.j + 2*N.x*N.k"
      ]
     },
     "metadata": {},
     "output_type": "display_data"
    }
   ],
   "source": [
    "from sympy.vector import *\n",
    "from sympy import symbols\n",
    "N=CoordSys3D('N')\n",
    "x,y,z=symbols('x y z')\n",
    "A=N.x**2*N.y+2*N.x*N.z-4\n",
    "delop=Del()\n",
    "display(delop(A))\n",
    "gradA=gradient(A)\n",
    "print(f\"\\n Gradient of {A} is \\n\")\n",
    "display(gradA)\n"
   ]
  },
  {
   "attachments": {},
   "cell_type": "markdown",
   "metadata": {},
   "source": [
    "2. To find divercence of F→ = x2yz^i + 2zx^j + z2xy^k"
   ]
  },
  {
   "cell_type": "code",
   "execution_count": 2,
   "metadata": {},
   "outputs": [
    {
     "data": {
      "text/latex": [
       "$\\displaystyle \\frac{\\partial}{\\partial \\mathbf{{z}_{N}}} \\mathbf{{x}_{N}} \\mathbf{{y}_{N}} \\mathbf{{z}_{N}}^{2} + \\frac{\\partial}{\\partial \\mathbf{{y}_{N}}} \\mathbf{{x}_{N}} \\mathbf{{y}_{N}}^{2} \\mathbf{{z}_{N}} + \\frac{\\partial}{\\partial \\mathbf{{x}_{N}}} \\mathbf{{x}_{N}}^{2} \\mathbf{{y}_{N}} \\mathbf{{z}_{N}}$"
      ],
      "text/plain": [
       "Derivative(N.x*N.y*N.z**2, N.z) + Derivative(N.x*N.y**2*N.z, N.y) + Derivative(N.x**2*N.y*N.z, N.x)"
      ]
     },
     "metadata": {},
     "output_type": "display_data"
    },
    {
     "name": "stdout",
     "output_type": "stream",
     "text": [
      "\n",
      " Divergence of N.x**2*N.y*N.z*N.i + N.x*N.y**2*N.z*N.j + N.x*N.y*N.z**2*N.k is \n",
      "\n"
     ]
    },
    {
     "data": {
      "text/latex": [
       "$\\displaystyle 6 \\mathbf{{x}_{N}} \\mathbf{{y}_{N}} \\mathbf{{z}_{N}}$"
      ],
      "text/plain": [
       "6*N.x*N.y*N.z"
      ]
     },
     "metadata": {},
     "output_type": "display_data"
    }
   ],
   "source": [
    "from sympy.vector import *\n",
    "from sympy import symbols\n",
    "N=CoordSys3D('N')\n",
    "x,y,z=symbols('x y z')\n",
    "A=N.x**2*N.y*N.z*N.i+N.y**2*N.z*N.x*N.j+N.z**2*N.x*N.y*N.k\n",
    "delop=Del()\n",
    "divA=delop.dot(A)\n",
    "display(divA)\n",
    "print(f\"\\n Divergence of {A} is \\n\")\n",
    "display(divergence(A))"
   ]
  },
  {
   "attachments": {},
   "cell_type": "markdown",
   "metadata": {},
   "source": [
    "3. To find curl of F→ = x2yz^i + y2zx^j + z2xy^k"
   ]
  },
  {
   "cell_type": "code",
   "execution_count": 3,
   "metadata": {},
   "outputs": [
    {
     "data": {
      "text/latex": [
       "$\\displaystyle \\left(\\frac{\\partial}{\\partial \\mathbf{{y}_{N}}} \\mathbf{{x}_{N}} \\mathbf{{y}_{N}} \\mathbf{{z}_{N}}^{2} - \\frac{\\partial}{\\partial \\mathbf{{z}_{N}}} \\mathbf{{x}_{N}} \\mathbf{{y}_{N}}^{2} \\mathbf{{z}_{N}}\\right)\\mathbf{\\hat{i}_{N}} + \\left(- \\frac{\\partial}{\\partial \\mathbf{{x}_{N}}} \\mathbf{{x}_{N}} \\mathbf{{y}_{N}} \\mathbf{{z}_{N}}^{2} + \\frac{\\partial}{\\partial \\mathbf{{z}_{N}}} \\mathbf{{x}_{N}}^{2} \\mathbf{{y}_{N}} \\mathbf{{z}_{N}}\\right)\\mathbf{\\hat{j}_{N}} + \\left(\\frac{\\partial}{\\partial \\mathbf{{x}_{N}}} \\mathbf{{x}_{N}} \\mathbf{{y}_{N}}^{2} \\mathbf{{z}_{N}} - \\frac{\\partial}{\\partial \\mathbf{{y}_{N}}} \\mathbf{{x}_{N}}^{2} \\mathbf{{y}_{N}} \\mathbf{{z}_{N}}\\right)\\mathbf{\\hat{k}_{N}}$"
      ],
      "text/plain": [
       "(Derivative(N.x*N.y*N.z**2, N.y) - Derivative(N.x*N.y**2*N.z, N.z))*N.i + (-Derivative(N.x*N.y*N.z**2, N.x) + Derivative(N.x**2*N.y*N.z, N.z))*N.j + (Derivative(N.x*N.y**2*N.z, N.x) - Derivative(N.x**2*N.y*N.z, N.y))*N.k"
      ]
     },
     "metadata": {},
     "output_type": "display_data"
    },
    {
     "name": "stdout",
     "output_type": "stream",
     "text": [
      "\n",
      " Curl of N.x**2*N.y*N.z*N.i + N.x*N.y**2*N.z*N.j + N.x*N.y*N.z**2*N.k is \n",
      "\n"
     ]
    },
    {
     "data": {
      "text/latex": [
       "$\\displaystyle \\left(- \\mathbf{{x}_{N}} \\mathbf{{y}_{N}}^{2} + \\mathbf{{x}_{N}} \\mathbf{{z}_{N}}^{2}\\right)\\mathbf{\\hat{i}_{N}} + \\left(\\mathbf{{x}_{N}}^{2} \\mathbf{{y}_{N}} - \\mathbf{{y}_{N}} \\mathbf{{z}_{N}}^{2}\\right)\\mathbf{\\hat{j}_{N}} + \\left(- \\mathbf{{x}_{N}}^{2} \\mathbf{{z}_{N}} + \\mathbf{{y}_{N}}^{2} \\mathbf{{z}_{N}}\\right)\\mathbf{\\hat{k}_{N}}$"
      ],
      "text/plain": [
       "(-N.x*N.y**2 + N.x*N.z**2)*N.i + (N.x**2*N.y - N.y*N.z**2)*N.j + (-N.x**2*N.z + N.y**2*N.z)*N.k"
      ]
     },
     "metadata": {},
     "output_type": "display_data"
    }
   ],
   "source": [
    "from sympy.vector import *\n",
    "from sympy import symbols\n",
    "N=CoordSys3D('N')\n",
    "x,y,z=symbols('x y z')\n",
    "A=N.x**2*N.y*N.z*N.i+N.y**2*N.z*N.x*N.j+N.z**2*N.x*N.y*N.k\n",
    "delop=Del()\n",
    "curlA=delop.cross(A)\n",
    "display(curlA)\n",
    "print(f\"\\n Curl of {A} is \\n\")\n",
    "display(curl(A))"
   ]
  },
  {
   "attachments": {},
   "cell_type": "markdown",
   "metadata": {},
   "source": [
    "4. To find gradient of x2yz"
   ]
  },
  {
   "cell_type": "code",
   "execution_count": 4,
   "metadata": {},
   "outputs": [
    {
     "name": "stdout",
     "output_type": "stream",
     "text": [
      "Given scalar function F=\n"
     ]
    },
    {
     "data": {
      "text/latex": [
       "$\\displaystyle x^{2} y z$"
      ],
      "text/plain": [
       "x**2*y*z"
      ]
     },
     "metadata": {},
     "output_type": "display_data"
    },
    {
     "name": "stdout",
     "output_type": "stream",
     "text": [
      "\n",
      " Gradient of F=\n"
     ]
    },
    {
     "data": {
      "text/latex": [
       "$\\displaystyle 2 x y z\\mathbf{\\hat{v}_x} + x^{2} z\\mathbf{\\hat{v}_y} + x^{2} y\\mathbf{\\hat{v}_z}$"
      ],
      "text/plain": [
       "2*x*y*z*v.x + x**2*z*v.y + x**2*y*v.z"
      ]
     },
     "metadata": {},
     "output_type": "display_data"
    }
   ],
   "source": [
    "from sympy.physics.vector import *\n",
    "from sympy import var,pprint\n",
    "var('x,y,z')\n",
    "v=ReferenceFrame('v')\n",
    "F=v[0]**2*v[1]*v[2]\n",
    "G=gradient(F,v)\n",
    "F=F.subs([(v[0],x),(v[1],y),(v[2],z)])\n",
    "print(\"Given scalar function F=\")\n",
    "display(F)\n",
    "G=G.subs([(v[0],x),(v[1],y),(v[2],z)])\n",
    "print(\"\\n Gradient of F=\")\n",
    "display(G)"
   ]
  },
  {
   "attachments": {},
   "cell_type": "markdown",
   "metadata": {},
   "source": [
    "5. To find divergence of F→ = x2y^i + yz2^j + x2zk"
   ]
  },
  {
   "cell_type": "code",
   "execution_count": 5,
   "metadata": {},
   "outputs": [
    {
     "name": "stdout",
     "output_type": "stream",
     "text": [
      "Given vector point function is \n"
     ]
    },
    {
     "data": {
      "text/latex": [
       "$\\displaystyle x^{2} y\\mathbf{\\hat{v}_x} + y z^{2}\\mathbf{\\hat{v}_y} + x^{2} z\\mathbf{\\hat{v}_z}$"
      ],
      "text/plain": [
       "x**2*y*v.x + y*z**2*v.y + x**2*z*v.z"
      ]
     },
     "metadata": {},
     "output_type": "display_data"
    },
    {
     "name": "stdout",
     "output_type": "stream",
     "text": [
      "Divergence of F=\n"
     ]
    },
    {
     "data": {
      "text/latex": [
       "$\\displaystyle x^{2} + 2 x y + z^{2}$"
      ],
      "text/plain": [
       "x**2 + 2*x*y + z**2"
      ]
     },
     "metadata": {},
     "output_type": "display_data"
    }
   ],
   "source": [
    "from sympy.physics.vector import *\n",
    "from sympy import var\n",
    "var('x,y,z')\n",
    "v=ReferenceFrame('v')\n",
    "F=v[0]**2*v[1]*v.x+v[1]*v[2]**2*v.y+v[0]**2*v[2]*v.z\n",
    "G=divergence(F,v)\n",
    "F=F.subs([(v[0],x),(v[1],y),(v[2],z)])\n",
    "print(\"Given vector point function is \")\n",
    "display(F)\n",
    "G=G.subs([(v[0],x),(v[1],y),(v[2],z)])\n",
    "print(\"Divergence of F=\")\n",
    "display(G)\n"
   ]
  },
  {
   "attachments": {},
   "cell_type": "markdown",
   "metadata": {},
   "source": [
    "6. To find curl of F→ = xy2^i + 2x2yz^j − 3yz2k^"
   ]
  },
  {
   "cell_type": "code",
   "execution_count": 6,
   "metadata": {},
   "outputs": [
    {
     "name": "stdout",
     "output_type": "stream",
     "text": [
      "Given vector point function is \n"
     ]
    },
    {
     "data": {
      "text/latex": [
       "$\\displaystyle x y^{2}\\mathbf{\\hat{v}_x} + 2 x^{2} y z\\mathbf{\\hat{v}_y} -  3 y z^{2}\\mathbf{\\hat{v}_z}$"
      ],
      "text/plain": [
       "x*y**2*v.x + 2*x**2*y*z*v.y - 3*y*z**2*v.z"
      ]
     },
     "metadata": {},
     "output_type": "display_data"
    },
    {
     "name": "stdout",
     "output_type": "stream",
     "text": [
      "curl of F=\n"
     ]
    },
    {
     "data": {
      "text/latex": [
       "$\\displaystyle (- 2 x^{2} y - 3 z^{2})\\mathbf{\\hat{v}_x} + (4 x y z - 2 x y)\\mathbf{\\hat{v}_z}$"
      ],
      "text/plain": [
       "(-2*x**2*y - 3*z**2)*v.x + (4*x*y*z - 2*x*y)*v.z"
      ]
     },
     "metadata": {},
     "output_type": "display_data"
    }
   ],
   "source": [
    "from sympy.physics.vector import *\n",
    "from sympy import var\n",
    "var('x,y,z')\n",
    "v=ReferenceFrame('v')\n",
    "F=v[0]*v[1]**2*v.x+2*v[0]**2*v[1]*v[2]*v.y-3*v[1]*v[2]**2*v.z\n",
    "G=curl(F,v)\n",
    "F=F.subs([(v[0],x),(v[1],y),(v[2],z)])\n",
    "print(\"Given vector point function is \")\n",
    "display(F)\n",
    "G=G.subs([(v[0],x),(v[1],y),(v[2],z)])\n",
    "print(\"curl of F=\")\n",
    "display(G)"
   ]
  },
  {
   "attachments": {},
   "cell_type": "markdown",
   "metadata": {},
   "source": [
    "7. Using Green's theorem, evaluate ∮c[(x + 2y)dx + (x − 2y)dy] , where is the region\n",
    "bounded by coordinate axes and the line x = 1 y = 1"
   ]
  },
  {
   "cell_type": "code",
   "execution_count": 7,
   "metadata": {},
   "outputs": [
    {
     "name": "stdout",
     "output_type": "stream",
     "text": [
      "I= -1\n"
     ]
    }
   ],
   "source": [
    "from sympy import *\n",
    "var('x,y')\n",
    "p=x+2*y\n",
    "q=x-2*y\n",
    "f=diff(q,x)-diff(p,y)\n",
    "soln=integrate(f,[x,0,1],[y,0,1])\n",
    "print(\"I=\",soln)"
   ]
  },
  {
   "attachments": {},
   "cell_type": "markdown",
   "metadata": {},
   "source": [
    "8. Using Green's theorem, evaluate ∮c[(xy + y2)dx + x2dy] where c is the closed curve\n",
    "bounded by y = x and y = x2"
   ]
  },
  {
   "cell_type": "code",
   "execution_count": 9,
   "metadata": {},
   "outputs": [
    {
     "name": "stdout",
     "output_type": "stream",
     "text": [
      "I= -1/20\n"
     ]
    }
   ],
   "source": [
    "from sympy import *\n",
    "var('x,y')\n",
    "p=x*y+y**2\n",
    "q=x**2\n",
    "f=diff(q,x)-diff(p,y)\n",
    "soln=integrate(f,[y,x**2,x],[x,0,1])\n",
    "print(\"I=\",soln)"
   ]
  },
  {
   "attachments": {},
   "cell_type": "markdown",
   "metadata": {},
   "source": [
    "9. Using Green,s theorem, evaluate ∮c[(3x + 4y)dx + (2x − 3y)dy] where c is the\n",
    "boundary of the circel x2 + y2 = 4"
   ]
  },
  {
   "cell_type": "code",
   "execution_count": 10,
   "metadata": {},
   "outputs": [
    {
     "name": "stdout",
     "output_type": "stream",
     "text": [
      "I= -8*pi\n"
     ]
    }
   ],
   "source": [
    "from sympy import *\n",
    "var('x,y')\n",
    "p=3*x+4*y\n",
    "q=2*x-3*y\n",
    "f=diff(q,x)-diff(p,y)\n",
    "soln=integrate(f,[y,-sqrt(4-x**2),sqrt(4-x**2)],[x,-2,2])\n",
    "print(\"I=\",soln)"
   ]
  }
 ],
 "metadata": {
  "kernelspec": {
   "display_name": "Python 3",
   "language": "python",
   "name": "python3"
  },
  "language_info": {
   "codemirror_mode": {
    "name": "ipython",
    "version": 3
   },
   "file_extension": ".py",
   "mimetype": "text/x-python",
   "name": "python",
   "nbconvert_exporter": "python",
   "pygments_lexer": "ipython3",
   "version": "3.11.3"
  },
  "orig_nbformat": 4
 },
 "nbformat": 4,
 "nbformat_minor": 2
}
