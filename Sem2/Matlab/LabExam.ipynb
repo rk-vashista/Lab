{
 "cells": [
  {
   "cell_type": "markdown",
   "metadata": {},
   "source": [
    "1. To find gradient of 𝜙 = 𝑥2𝑦 + 2𝑥𝑧 − 4"
   ]
  },
  {
   "cell_type": "code",
   "execution_count": 1,
   "metadata": {},
   "outputs": [
    {
     "data": {
      "text/latex": [
       "$\\displaystyle \\left(\\frac{\\partial}{\\partial \\mathbf{{x}_{N}}} \\left(\\mathbf{{x}_{N}}^{2} \\mathbf{{y}_{N}} + 2 \\mathbf{{x}_{N}} \\mathbf{{z}_{N}} - 4\\right)\\right)\\mathbf{\\hat{i}_{N}} + \\left(\\frac{\\partial}{\\partial \\mathbf{{y}_{N}}} \\left(\\mathbf{{x}_{N}}^{2} \\mathbf{{y}_{N}} + 2 \\mathbf{{x}_{N}} \\mathbf{{z}_{N}} - 4\\right)\\right)\\mathbf{\\hat{j}_{N}} + \\left(\\frac{\\partial}{\\partial \\mathbf{{z}_{N}}} \\left(\\mathbf{{x}_{N}}^{2} \\mathbf{{y}_{N}} + 2 \\mathbf{{x}_{N}} \\mathbf{{z}_{N}} - 4\\right)\\right)\\mathbf{\\hat{k}_{N}}$"
      ],
      "text/plain": [
       "(Derivative(N.x**2*N.y + 2*N.x*N.z - 4, N.x))*N.i + (Derivative(N.x**2*N.y + 2*N.x*N.z - 4, N.y))*N.j + (Derivative(N.x**2*N.y + 2*N.x*N.z - 4, N.z))*N.k"
      ]
     },
     "metadata": {},
     "output_type": "display_data"
    },
    {
     "name": "stdout",
     "output_type": "stream",
     "text": [
      "\n",
      " Gradient of N.x**2*N.y + 2*N.x*N.z - 4 is \n",
      "\n"
     ]
    },
    {
     "data": {
      "text/latex": [
       "$\\displaystyle \\left(2 \\mathbf{{x}_{N}} \\mathbf{{y}_{N}} + 2 \\mathbf{{z}_{N}}\\right)\\mathbf{\\hat{i}_{N}} + \\left(\\mathbf{{x}_{N}}^{2}\\right)\\mathbf{\\hat{j}_{N}} + \\left(2 \\mathbf{{x}_{N}}\\right)\\mathbf{\\hat{k}_{N}}$"
      ],
      "text/plain": [
       "(2*N.x*N.y + 2*N.z)*N.i + N.x**2*N.j + 2*N.x*N.k"
      ]
     },
     "metadata": {},
     "output_type": "display_data"
    }
   ],
   "source": [
    "#To find gradient of scalar point function.\n",
    "from sympy.vector import *\n",
    "from sympy import symbols\n",
    "N=CoordSys3D('N')\n",
    "x,y,z=symbols('x y z')\n",
    "A=N.x**2*N.y+2*N.x*N.z-4\n",
    "delop=Del()\n",
    "display(delop(A))\n",
    "gradA=gradient(A)\n",
    "print(f\"\\n Gradient of {A} is \\n\")\n",
    "display(gradA)\n"
   ]
  },
  {
   "cell_type": "markdown",
   "metadata": {},
   "source": [
    "2. To find curl of 𝐹⃗ = 𝑥2𝑦𝑧𝑖̂+ 𝑦2𝑧𝑥𝑗̂+ 𝑧2𝑥𝑦�"
   ]
  },
  {
   "cell_type": "code",
   "execution_count": 2,
   "metadata": {},
   "outputs": [
    {
     "data": {
      "text/latex": [
       "$\\displaystyle \\left(\\frac{\\partial}{\\partial \\mathbf{{y}_{N}}} \\mathbf{{x}_{N}} \\mathbf{{y}_{N}} \\mathbf{{z}_{N}}^{2} - \\frac{\\partial}{\\partial \\mathbf{{z}_{N}}} \\mathbf{{x}_{N}} \\mathbf{{y}_{N}}^{2} \\mathbf{{z}_{N}}\\right)\\mathbf{\\hat{i}_{N}} + \\left(- \\frac{\\partial}{\\partial \\mathbf{{x}_{N}}} \\mathbf{{x}_{N}} \\mathbf{{y}_{N}} \\mathbf{{z}_{N}}^{2} + \\frac{\\partial}{\\partial \\mathbf{{z}_{N}}} \\mathbf{{x}_{N}}^{2} \\mathbf{{y}_{N}} \\mathbf{{z}_{N}}\\right)\\mathbf{\\hat{j}_{N}} + \\left(\\frac{\\partial}{\\partial \\mathbf{{x}_{N}}} \\mathbf{{x}_{N}} \\mathbf{{y}_{N}}^{2} \\mathbf{{z}_{N}} - \\frac{\\partial}{\\partial \\mathbf{{y}_{N}}} \\mathbf{{x}_{N}}^{2} \\mathbf{{y}_{N}} \\mathbf{{z}_{N}}\\right)\\mathbf{\\hat{k}_{N}}$"
      ],
      "text/plain": [
       "(Derivative(N.x*N.y*N.z**2, N.y) - Derivative(N.x*N.y**2*N.z, N.z))*N.i + (-Derivative(N.x*N.y*N.z**2, N.x) + Derivative(N.x**2*N.y*N.z, N.z))*N.j + (Derivative(N.x*N.y**2*N.z, N.x) - Derivative(N.x**2*N.y*N.z, N.y))*N.k"
      ]
     },
     "metadata": {},
     "output_type": "display_data"
    },
    {
     "name": "stdout",
     "output_type": "stream",
     "text": [
      "\n",
      " Curl of N.x**2*N.y*N.z*N.i + N.x*N.y**2*N.z*N.j + N.x*N.y*N.z**2*N.k is \n",
      "\n"
     ]
    },
    {
     "data": {
      "text/latex": [
       "$\\displaystyle \\left(- \\mathbf{{x}_{N}} \\mathbf{{y}_{N}}^{2} + \\mathbf{{x}_{N}} \\mathbf{{z}_{N}}^{2}\\right)\\mathbf{\\hat{i}_{N}} + \\left(\\mathbf{{x}_{N}}^{2} \\mathbf{{y}_{N}} - \\mathbf{{y}_{N}} \\mathbf{{z}_{N}}^{2}\\right)\\mathbf{\\hat{j}_{N}} + \\left(- \\mathbf{{x}_{N}}^{2} \\mathbf{{z}_{N}} + \\mathbf{{y}_{N}}^{2} \\mathbf{{z}_{N}}\\right)\\mathbf{\\hat{k}_{N}}$"
      ],
      "text/plain": [
       "(-N.x*N.y**2 + N.x*N.z**2)*N.i + (N.x**2*N.y - N.y*N.z**2)*N.j + (-N.x**2*N.z + N.y**2*N.z)*N.k"
      ]
     },
     "metadata": {},
     "output_type": "display_data"
    }
   ],
   "source": [
    "#To find curl of a vector point function\n",
    "from sympy . vector import *\n",
    "from sympy import symbols\n",
    "N= CoordSys3D ('N')\n",
    "x,y,z= symbols ('x y z')\n",
    "A=N.x ** 2*N.y*N.z*N.i+N.y ** 2*N.z*N.x*N.j+N.z ** 2*N.x*N.y*N.k\n",
    "delop =Del ()\n",
    "curlA = delop . cross (A)\n",
    "display ( curlA )\n",
    "print (f\"\\n Curl of {A} is \\n\")\n",
    "display ( curl (A))"
   ]
  },
  {
   "cell_type": "markdown",
   "metadata": {},
   "source": [
    "3. To find gradient of 𝐹⃗ = 𝑥2𝑦𝑧𝑖̂+ 𝑦2𝑧𝑥𝑗̂+ 𝑧2𝑥𝑦𝑘̂"
   ]
  },
  {
   "cell_type": "code",
   "execution_count": 3,
   "metadata": {},
   "outputs": [
    {
     "name": "stdout",
     "output_type": "stream",
     "text": [
      " Given vector point function is \n"
     ]
    },
    {
     "data": {
      "text/latex": [
       "$\\displaystyle x^{2} y\\mathbf{\\hat{v}_x} + y z^{2}\\mathbf{\\hat{v}_y} + x^{2} z\\mathbf{\\hat{v}_z}$"
      ],
      "text/plain": [
       "x**2*y*v.x + y*z**2*v.y + x**2*z*v.z"
      ]
     },
     "metadata": {},
     "output_type": "display_data"
    },
    {
     "name": "stdout",
     "output_type": "stream",
     "text": [
      " Divergence of F=\n"
     ]
    },
    {
     "data": {
      "text/latex": [
       "$\\displaystyle x^{2} + 2 x y + z^{2}$"
      ],
      "text/plain": [
       "x**2 + 2*x*y + z**2"
      ]
     },
     "metadata": {},
     "output_type": "display_data"
    }
   ],
   "source": [
    "#To find divergence of F=x^2yi+yz^2j+x^2zk\n",
    "from sympy . physics . vector import *\n",
    "from sympy import var\n",
    "var ('x,y,z')\n",
    "v= ReferenceFrame ('v')\n",
    "F=v[0] ** 2*v[1]*v.x+v[1]*v[2] ** 2*v.y+v[0] ** 2*v[2]*v.z\n",
    "G= divergence (F,v)\n",
    "F=F. subs ([(v[0],x) ,(v[1],y) ,(v[2],z)])\n",
    "print (\" Given vector point function is \")\n",
    "display (F)\n",
    "G=G. subs ([(v[0],x) ,(v[1],y) ,(v[2],z)])\n",
    "print (\" Divergence of F=\")\n",
    "display (G)\n"
   ]
  },
  {
   "cell_type": "markdown",
   "metadata": {},
   "source": [
    "4. Obtain a root of the equation 𝑥3 − 2𝑥 − 5 = 0 between 2 and 3 by regulafalsi method. Perform 5 iterations."
   ]
  },
  {
   "cell_type": "code",
   "execution_count": 5,
   "metadata": {},
   "outputs": [
    {
     "name": "stdout",
     "output_type": "stream",
     "text": [
      "itration 1 \t the root 2.059 \t function value -0.391 \n",
      "\n",
      "itration 2 \t the root 2.081 \t function value -0.147 \n",
      "\n",
      "itration 3 \t the root 2.090 \t function value -0.055 \n",
      "\n",
      "itration 4 \t the root 2.093 \t function value -0.020 \n",
      "\n",
      "itration 5 \t the root 2.094 \t function value -0.007 \n",
      "\n"
     ]
    }
   ],
   "source": [
    "# Regula Falsi method\n",
    "from sympy import *\n",
    "x= Symbol ('x')\n",
    "g = input ('Enter the function ') #%x^3-2*x-5; % function\n",
    "f= lambdify (x,g)\n",
    "a= float ( input ('Enter a valus :')) #2\n",
    "b= float ( input ('Enter b valus :')) # 3\n",
    "N=int( input ('Enter number of iterations :')) #5\n",
    "for i in range (1,N+1):\n",
    "    c=(a*f(b)-b*f(a))/(f(b)-f(a))\n",
    "    if ((f(a)*f(c)<0)):\n",
    "        b=c\n",
    "    else :\n",
    "        a=c\n",
    "    print ('itration %d \\t the root %0.3f \\t function value %0.3f \\n'%(i,c,f(c)))\n"
   ]
  },
  {
   "cell_type": "markdown",
   "metadata": {},
   "source": [
    "5. Find a root of the equation 3𝑥 = cos 𝑥 + 1, near 1, by Newton Raphson method. Perform 5 iterations."
   ]
  },
  {
   "cell_type": "code",
   "execution_count": 6,
   "metadata": {},
   "outputs": [
    {
     "name": "stdout",
     "output_type": "stream",
     "text": [
      "itration 1 \t the root 0.620 \t function value 0.046 \n",
      "\n",
      "itration 2 \t the root 0.607 \t function value 0.000 \n",
      "\n",
      "itration 3 \t the root 0.607 \t function value 0.000 \n",
      "\n",
      "itration 4 \t the root 0.607 \t function value 0.000 \n",
      "\n",
      "itration 5 \t the root 0.607 \t function value 0.000 \n",
      "\n"
     ]
    }
   ],
   "source": [
    "from sympy import *\n",
    "x= Symbol ('x')\n",
    "g = input ('Enter the function ') #%3x -cos(x)-1; % function\n",
    "f= lambdify (x,g)\n",
    "dg = diff (g);\n",
    "df= lambdify (x,dg)\n",
    "x0= float ( input ('Enter the intial approximation ')); # x0=1\n",
    "n= int( input ('Enter the number of iterations ')); #n=5;\n",
    "for i in range (1,n+1):\n",
    "    x1 =(x0 - (f(x0)/df(x0)))\n",
    "    print ('itration %d \\t the root %0.3f \\t function value %0.3f \\n'%(i, x1 ,f(x1))); # print all iteration value\n",
    "    x0 = x1\n"
   ]
  },
  {
   "cell_type": "markdown",
   "metadata": {},
   "source": [
    "6.1 Using Trapezoidal Rule Evaluate ∫11+𝑥2"
   ]
  },
  {
   "cell_type": "code",
   "execution_count": 13,
   "metadata": {},
   "outputs": [
    {
     "name": "stdout",
     "output_type": "stream",
     "text": [
      "1.41080\n"
     ]
    }
   ],
   "source": [
    "# Definition of the function to integrate\n",
    "def my_func(x):\n",
    "    return 1 / (1 + x ** 2)\n",
    "\n",
    "# Function to implement trapezoidal method\n",
    "def trapezoidal(x0, xn, n):\n",
    "    h = (xn - x0) / n  # Calculating step size\n",
    "\n",
    "    # Finding sum\n",
    "    integration = my_func(x0) + my_func(xn)  # Adding first and last terms\n",
    "\n",
    "    for i in range(1, n):\n",
    "        k = x0 + i * h  # i-th step value\n",
    "        integration = integration + 2 * my_func(k)  # Adding areas of the trapezoids\n",
    "\n",
    "    # Proportioning sum of trapezoid areas\n",
    "    integration = integration * h / 2\n",
    "    return integration\n",
    "a = 0  # lower limit\n",
    "b = 6  # upper limit\n",
    "n = 6  # number of sub intervals\n",
    "result = trapezoidal(a, b, n)\n",
    "print('%3.5f' % result)\n",
    "\n"
   ]
  },
  {
   "cell_type": "markdown",
   "metadata": {},
   "source": [
    "6.2 simpson's 1/3 Evaluate ∫11+𝑥2"
   ]
  },
  {
   "cell_type": "code",
   "execution_count": 10,
   "metadata": {},
   "outputs": [
    {
     "name": "stdout",
     "output_type": "stream",
     "text": [
      "Integration result by Simpson's 1/3 method is: 0.859392\n"
     ]
    }
   ],
   "source": [
    "# Function to implement the Simpson's one-third rule\n",
    "def simpson13(x0, xn, n):\n",
    "    h = (xn - x0) / n  # calculating step size\n",
    "\n",
    "    # Finding sum\n",
    "    integration = (my_func(x0) + my_func(xn))\n",
    "    k = x0\n",
    "    for i in range(1, n):\n",
    "        if i % 2 == 0:\n",
    "            integration = integration + 4 * my_func(k)\n",
    "        else:\n",
    "            integration = integration + 2 * my_func(k)\n",
    "        k += h\n",
    "\n",
    "    # Finding final integration value\n",
    "    integration = integration * h * (1 / 3)\n",
    "    return integration\n",
    "\n",
    "# Input section\n",
    "lower_limit = float(input(\"Enter lower limit of integration: \"))\n",
    "upper_limit = float(input(\"Enter upper limit of integration: \"))\n",
    "sub_interval = int(input(\"Enter number of sub intervals: \"))\n",
    "\n",
    "result = simpson13(lower_limit, upper_limit, sub_interval)\n",
    "print(\"Integration result by Simpson's 1/3 method is: %0.6f\" % result)"
   ]
  },
  {
   "cell_type": "markdown",
   "metadata": {},
   "source": [
    "6.3 simpson's 3/8 Evaluate ∫11+𝑥2"
   ]
  },
  {
   "cell_type": "code",
   "execution_count": 11,
   "metadata": {},
   "outputs": [
    {
     "name": "stdout",
     "output_type": "stream",
     "text": [
      "1.27631\n"
     ]
    }
   ],
   "source": [
    "def simpsons_3_8_rule(f, a, b, n):\n",
    "    h = (b - a) / n\n",
    "    s = f(a) + f(b)\n",
    "\n",
    "    for i in range(1, n, 3):\n",
    "        s += 3 * f(a + i * h)\n",
    "\n",
    "    for i in range(3, n - 1, 3):\n",
    "        s += 3 * f(a + i * h)\n",
    "\n",
    "    for i in range(2, n - 2, 3):\n",
    "        s += 2 * f(a + i * h)\n",
    "\n",
    "    return s * 3 * h / 8\n",
    "\n",
    "def f(x):\n",
    "    return 1 / (1 + x ** 2)  # function here\n",
    "\n",
    "a = 0  # lower limit\n",
    "b = 6  # upper limit\n",
    "n = 6  # number of sub intervals\n",
    "result = simpsons_3_8_rule(f, a, b, n)\n",
    "print('%3.5f' % result)"
   ]
  },
  {
   "cell_type": "markdown",
   "metadata": {},
   "source": [
    "7. Runge-Kutta methodApply the Runge Kutta method to find the solution of dy/dx = 1 + (y/x) at y(2) taking h = 0.2. Given that y(1) = 2."
   ]
  },
  {
   "cell_type": "code",
   "execution_count": 14,
   "metadata": {},
   "outputs": [
    {
     "data": {
      "text/plain": [
       "array([2.  , 2.62, 3.27, 3.95, 4.66, 5.39])"
      ]
     },
     "execution_count": 14,
     "metadata": {},
     "output_type": "execute_result"
    }
   ],
   "source": [
    "from sympy import *\n",
    "import numpy as np\n",
    "\n",
    "def RungeKutta(g, x0, h, y0, xn):\n",
    "    x, y = symbols('x y')\n",
    "    f = lambdify([x, y], g)\n",
    "    xt = x0 + h\n",
    "    Y = [y0]\n",
    "    while xt <= xn:\n",
    "        k1 = h * f(x0, y0)\n",
    "        k2 = h * f(x0 + h / 2, y0 + k1 / 2)\n",
    "        k3 = h * f(x0 + h / 2, y0 + k2 / 2)\n",
    "        k4 = h * f(x0 + h, y0 + k3)\n",
    "        y1 = y0 + (1 / 6) * (k1 + 2 * k2 + 2 * k3 + k4)\n",
    "        Y.append(y1)\n",
    "        x0 = xt\n",
    "        y0 = y1\n",
    "        xt = xt + h\n",
    "    return np.round(Y, 2)\n",
    "\n",
    "RungeKutta('1+(y/x)', 1, 0.2, 2, 2)"
   ]
  },
  {
   "cell_type": "markdown",
   "metadata": {},
   "source": [
    "8. Apply Milne’s predictor and corrector method to solve dy/dx = x2 + (y/2) at y(1.4).Given that y(1)=2, y(1.1)=2.2156, y(1.2)=2.4649, y(1.3)=27514. Use corrector formula thrice."
   ]
  },
  {
   "cell_type": "code",
   "execution_count": 15,
   "metadata": {},
   "outputs": [
    {
     "name": "stdout",
     "output_type": "stream",
     "text": [
      "Predicted value of y4 is 3.079\n",
      "Corrected value of y4 after iteration 1 is 3.07940\n",
      "Corrected value of y4 after iteration 2 is 3.07940\n",
      "Corrected value of y4 after iteration 3 is 3.07940\n"
     ]
    }
   ],
   "source": [
    "# Milne's method to solve first-order DE\n",
    "# Use corrector formula thrice\n",
    "\n",
    "x0 = 1\n",
    "y0 = 2\n",
    "y1 = 2.2156\n",
    "y2 = 2.4649\n",
    "y3 = 2.7514\n",
    "h = 0.1\n",
    "x1 = x0 + h\n",
    "x2 = x1 + h\n",
    "x3 = x2 + h\n",
    "x4 = x3 + h\n",
    "\n",
    "def f(x, y):\n",
    "    return x ** 2 + (y / 2)\n",
    "\n",
    "y10 = f(x0, y0)\n",
    "y11 = f(x1, y1)\n",
    "y12 = f(x2, y2)\n",
    "y13 = f(x3, y3)\n",
    "y4p = y0 + (4 * h / 3) * (2 * y11 - y12 + 2 * y13)\n",
    "print('Predicted value of y4 is %3.3f' % y4p)\n",
    "\n",
    "y14 = f(x4, y4p)\n",
    "for i in range(1, 4):\n",
    "    y4 = y2 + (h / 3) * (y14 + 4 * y13 + y12)\n",
    "    print('Corrected value of y4 after iteration %d is %3.5f' % (i, y4))\n",
    "    y14 = f(x4, y4)\n"
   ]
  }
 ],
 "metadata": {
  "kernelspec": {
   "display_name": "Python 3",
   "language": "python",
   "name": "python3"
  },
  "language_info": {
   "codemirror_mode": {
    "name": "ipython",
    "version": 3
   },
   "file_extension": ".py",
   "mimetype": "text/x-python",
   "name": "python",
   "nbconvert_exporter": "python",
   "pygments_lexer": "ipython3",
   "version": "3.11.4"
  },
  "orig_nbformat": 4
 },
 "nbformat": 4,
 "nbformat_minor": 2
}
