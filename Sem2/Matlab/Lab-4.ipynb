{
 "cells": [
  {
   "attachments": {},
   "cell_type": "markdown",
   "metadata": {},
   "source": [
    "1. Use Newtons forward interpolation to obtain the interpolating polynomial and hence\n",
    "calculate y(2) for the following: x: 1 3 5 7 9\n",
    "y: 6 10 62 210 502"
   ]
  },
  {
   "cell_type": "code",
   "execution_count": 5,
   "metadata": {},
   "outputs": [
    {
     "name": "stdout",
     "output_type": "stream",
     "text": [
      "Enter data for x and y: \n",
      "\n",
      "FORWARD DIFFERENCE TABLE \n",
      "\n",
      "1.00 \t\t6.00 \t\t4.00 \t\t48.00 \t\t48.00 \t\t0.00 \n",
      "3.00 \t\t10.00 \t\t52.00 \t\t96.00 \t\t48.00 \n",
      "5.00 \t\t62.00 \t\t148.00 \t\t144.00 \n",
      "7.00 \t\t210.00 \t\t292.00 \n",
      "9.00 \t\t502.00 \n",
      "\n",
      "THE INTERPOLATING POLYNOMIAL IS\n",
      "\n",
      "     3        2              \n",
      "1.0⋅t  - 3.0⋅t  + 1.0⋅t + 7.0\n",
      "\n",
      "The value of the function at  2.0 is\n",
      " 5.0\n"
     ]
    }
   ],
   "source": [
    "from sympy import *\n",
    "import numpy as np\n",
    "n = int( input ('Enter number of data points : ') )\n",
    "x = np . zeros (( n ) )\n",
    "y = np . zeros (( n , n ) )\n",
    "\n",
    "print ('Enter data for x and y: ')\n",
    "for i in range ( n ):\n",
    "    x[i] = float ( input ( 'x['+str( i )+']= ') )\n",
    "    y[i][0] = float ( input ( 'y['+str( i )+']= ') )\n",
    "\n",
    "for i in range (1 , n ):\n",
    "    for j in range (0 , n-i ):\n",
    "        y[j][i] = y[j+1][i-1] - y[j][i-1]\n",
    "print ('\\nFORWARD DIFFERENCE TABLE \\n') ;\n",
    "for i in range (0 , n ):\n",
    "    print ('%0.2f ' %( x[i]) , end='')\n",
    "    for j in range (0 , n-i ):\n",
    "        print ('\\t\\t%0.2f ' %( y[i][j]) , end='')\n",
    "    print ()\n",
    "\n",
    "t= symbols ('t')\n",
    "f=[]\n",
    "p=( t-x[0])/( x[1]-x[0])\n",
    "f . append ( p )\n",
    "for i in range (1 , n-1 ):\n",
    "    f . append ( f[i-1]*( p-i )/( i+1 ) )\n",
    "    poly =y[0][0]\n",
    "for i in range ( n-1 ):\n",
    "    poly = poly +y[0][i+1]*f[i]\n",
    "simp_poly = simplify ( poly )\n",
    "print ('\\nTHE INTERPOLATING POLYNOMIAL IS\\n') ;\n",
    "pprint ( simp_poly )\n",
    "\n",
    "inter = input ('Do you want to interpolate at a point (y/n)? ') # y\n",
    "if inter =='y':\n",
    "    a= float ( input ('enter the point ') ) #2\n",
    "    interpol = lambdify (t , simp_poly )\n",
    "    result = interpol ( a )\n",
    "    print ('\\nThe value of the function at ' ,a ,'is\\n', result ) ;"
   ]
  },
  {
   "attachments": {},
   "cell_type": "markdown",
   "metadata": {},
   "source": [
    "2. Use Newtons backward interpolation to obtain the interpolating polynomial and\n",
    "hence calculate y(8) for the following data: x: 1 3 5 7 9\n",
    "y: 6 10 62 210 502"
   ]
  },
  {
   "cell_type": "code",
   "execution_count": 6,
   "metadata": {},
   "outputs": [
    {
     "name": "stdout",
     "output_type": "stream",
     "text": [
      " This will use Newton 's backword intepolation formula \n",
      "Enter data for x and y: \n",
      "\n",
      "BACKWARD DIFFERENCE TABLE \n",
      "\n",
      "1.00 \t6.00 \n",
      "3.00 \t10.00 \t4.00 \n",
      "5.00 \t62.00 \t52.00 \t48.00 \n",
      "7.00 \t210.00 \t148.00 \t96.00 \t48.00 \n",
      "9.00 \t502.00 \t292.00 \t144.00 \t48.00 \t0.00 \n",
      "502.0\n",
      "\n",
      "THE INTERPOLATING POLYNOMIAL IS\n",
      "\n",
      "     3        2              \n",
      "1.0⋅t  - 3.0⋅t  + 1.0⋅t + 7.0\n",
      "\n",
      "The value of the function at  8.0 is\n",
      " 335.0\n"
     ]
    }
   ],
   "source": [
    "from sympy import *\n",
    "import numpy as np\n",
    "\n",
    "print (\" This will use Newton 's backword intepolation formula \")\n",
    "\n",
    "n = int( input ('Enter number of data points : ') )\n",
    "\n",
    "x = np . zeros (( n ) )\n",
    "y = np . zeros (( n , n ) )\n",
    "\n",
    "print ('Enter data for x and y: ')\n",
    "for i in range ( n ):\n",
    "    x[i] = float ( input ( 'x['+str( i )+']= ') )\n",
    "    y[i][0] = float ( input ( 'y['+str( i )+']= ') )\n",
    "\n",
    "for i in range (1 , n ):\n",
    "    for j in range ( n-1 , i-2 ,-1 ):\n",
    "        y[j][i] = y[j][i-1] - y[j-1][i-1]\n",
    "print ('\\nBACKWARD DIFFERENCE TABLE \\n') ;\n",
    "for i in range (0 , n ):\n",
    "    print ('%0.2f ' %( x[i]) , end='')\n",
    "    for j in range (0 , i+1 ):\n",
    "        print ('\\t%0.2f ' %( y[i][j]) , end='')\n",
    "    print ()\n",
    "\n",
    "t= symbols ('t')\n",
    "f=[]\n",
    "p=( t-x[n-1])/( x[1]-x[0])\n",
    "f . append ( p )\n",
    "for i in range (1 , n-1 ):\n",
    "    f . append ( f[i-1]*( p+i )/( i+1 ) )\n",
    "poly =y[n-1][0]\n",
    "print ( poly )\n",
    "for i in range ( n-1 ):\n",
    "    poly = poly +y[n-1][i+1]*f[i]\n",
    "    simp_poly = simplify ( poly )\n",
    "print ('\\nTHE INTERPOLATING POLYNOMIAL IS\\n') ;\n",
    "pprint ( simp_poly )\n",
    "\n",
    "inter = input ('Do you want to interpolate at a point (y/n)? ')\n",
    "if inter =='y':\n",
    "    a= float ( input ('enter the point ') )\n",
    "    interpol = lambdify (t , simp_poly )\n",
    "    result = interpol ( a )\n",
    "    print ('\\nThe value of the function at ' ,a ,'is\\n', result ) ;"
   ]
  }
 ],
 "metadata": {
  "kernelspec": {
   "display_name": "Python 3",
   "language": "python",
   "name": "python3"
  },
  "language_info": {
   "codemirror_mode": {
    "name": "ipython",
    "version": 3
   },
   "file_extension": ".py",
   "mimetype": "text/x-python",
   "name": "python",
   "nbconvert_exporter": "python",
   "pygments_lexer": "ipython3",
   "version": "3.11.4"
  },
  "orig_nbformat": 4
 },
 "nbformat": 4,
 "nbformat_minor": 2
}
