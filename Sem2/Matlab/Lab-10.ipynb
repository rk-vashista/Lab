{
 "cells": [
  {
   "attachments": {},
   "cell_type": "markdown",
   "metadata": {},
   "source": [
    "10.1 Apply the Runge Kutta method to find the solution of dy/dx = 1 + (y/x) at y(2) taking\n",
    "h = 0.2. Given that y(1) = 2.\n"
   ]
  },
  {
   "cell_type": "code",
   "execution_count": 11,
   "metadata": {},
   "outputs": [
    {
     "data": {
      "text/plain": [
       "array([2.  , 2.62, 3.27, 3.95, 4.66, 5.39])"
      ]
     },
     "execution_count": 11,
     "metadata": {},
     "output_type": "execute_result"
    }
   ],
   "source": [
    "from sympy import *\n",
    "import numpy as np\n",
    "\n",
    "def RungeKutta(g, x0, h, y0, xn):\n",
    "  x, y = symbols('x, y')\n",
    "  f = lambdify([x, y], g)\n",
    "  xt = x0 + h\n",
    "  Y = [y0]\n",
    "  while xt <= xn:\n",
    "    k1 = h * f(x0, y0)\n",
    "    k2 = h * f(x0 + h / 2, y0 + k1 / 2)\n",
    "    k3 = h * f(x0 + h / 2, y0 + k2 / 2)\n",
    "    k4 = h * f(x0 + h, y0 + k3)\n",
    "    y1 = y0 + (1 / 6) * (k1 + 2 * k2 + 2 * k3 + k4)\n",
    "    Y.append(y1)\n",
    "    x0=xt\n",
    "    y0=y1\n",
    "    xt = xt + h\n",
    "  return np.round(Y, 2)\n",
    "\n",
    "RungeKutta('1+(y/x)', 1,0.2,2,2)\n"
   ]
  },
  {
   "cell_type": "code",
   "execution_count": 12,
   "metadata": {},
   "outputs": [
    {
     "name": "stdout",
     "output_type": "stream",
     "text": [
      "predicted value of y4 is 3.079 \n",
      "Corrected value of y4 after \t iteration 1 is \t 3.07940\t\n",
      "Corrected value of y4 after \t iteration 2 is \t 3.07940\t\n",
      "Corrected value of y4 after \t iteration 3 is \t 3.07940\t\n"
     ]
    }
   ],
   "source": [
    "x0=1\n",
    "y0=2\n",
    "y1=2.2156\n",
    "y2=2.4649\n",
    "y3=2.7514\n",
    "h=0.1\n",
    "x1=x0+h\n",
    "x2=x1+h\n",
    "x3=x2+h\n",
    "x4=x3+h\n",
    "def f(x,y):\n",
    "  return x ** 2+(y/2)\n",
    "y10=f(x0,y0)\n",
    "\n",
    "y11 =f(x1 ,y1)\n",
    "y12 =f(x2 ,y2)\n",
    "y13 =f(x3 ,y3)\n",
    "y4p =y0+(4*h/3)*(2*y11-y12+2*y13)\n",
    "print ('predicted value of y4 is %3.3f '%y4p)\n",
    "y14 =f(x4 ,y4p )\n",
    "for i in range(1,4):\n",
    "  y4=y2+(h/3)*(y14+4*y13+y12)\n",
    "  print('Corrected value of y4 after \\t iteration %d is \\t %3.5f\\t'%(i,y4))\n",
    "  y14=f(x4,y4)"
   ]
  }
 ],
 "metadata": {
  "kernelspec": {
   "display_name": "Python 3",
   "language": "python",
   "name": "python3"
  },
  "language_info": {
   "codemirror_mode": {
    "name": "ipython",
    "version": 3
   },
   "file_extension": ".py",
   "mimetype": "text/x-python",
   "name": "python",
   "nbconvert_exporter": "python",
   "pygments_lexer": "ipython3",
   "version": "3.11.4"
  },
  "orig_nbformat": 4
 },
 "nbformat": 4,
 "nbformat_minor": 2
}
